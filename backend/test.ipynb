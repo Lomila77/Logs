{
 "cells": [
  {
   "cell_type": "code",
   "execution_count": 1,
   "metadata": {},
   "outputs": [],
   "source": [
    "from opensearchpy import OpenSearch\n",
    "from src.opensearch import Opensearch_Client\n",
    "from src.dto import Log, Query, LogResponse\n",
    "\n",
    "OPENSEARCH_HOST=\"localhost\"\n",
    "OPENSEARCH_PORT=\"9200\""
   ]
  },
  {
   "cell_type": "code",
   "execution_count": 2,
   "metadata": {},
   "outputs": [],
   "source": [
    "opensearch_client = Opensearch_Client(\n",
    "        OpenSearch(\n",
    "            hosts=[\n",
    "                {\n",
    "                    \"host\": OPENSEARCH_HOST,\n",
    "                    \"port\": OPENSEARCH_PORT,\n",
    "                }\n",
    "            ],\n",
    "        )\n",
    "    )"
   ]
  },
  {
   "cell_type": "code",
   "execution_count": 3,
   "metadata": {},
   "outputs": [
    {
     "name": "stdout",
     "output_type": "stream",
     "text": [
      "[LogResponse(timestamp=datetime.datetime(2025, 7, 15, 12, 22, 53, 740000, tzinfo=TzInfo(UTC)), level='ERROR', message='coucou test', service='frontend-test', id='8uYJDpgB1uxAWijVtAli'), LogResponse(timestamp=datetime.datetime(2025, 7, 15, 12, 22, 8, 682521), level='INFO', message='connection open', service='uvicorn.error', id='8eYJDpgB1uxAWijVBAk0'), LogResponse(timestamp=datetime.datetime(2025, 7, 15, 12, 22, 8, 633493), level='INFO', message='172.20.0.1:46104 - \"WebSocket /ws\" [accepted]', service='uvicorn.error', id='8OYJDpgB1uxAWijVAwn_'), LogResponse(timestamp=datetime.datetime(2025, 7, 15, 12, 22, 8, 469420), level='INFO', message='connection open', service='uvicorn.error', id='7-YJDpgB1uxAWijVAwlb'), LogResponse(timestamp=datetime.datetime(2025, 7, 15, 12, 22, 8, 368237), level='INFO', message='172.20.0.1:46092 - \"WebSocket /ws\" [accepted]', service='uvicorn.error', id='7uYJDpgB1uxAWijVAgn2'), LogResponse(timestamp=datetime.datetime(2025, 7, 15, 12, 22, 2, 629497), level='INFO', message='Uvicorn running on http://0.0.0.0:8000 (Press CTRL+C to quit)', service='uvicorn.error', id='7eYIDpgB1uxAWijV7AmM'), LogResponse(timestamp=datetime.datetime(2025, 7, 15, 12, 22, 2, 599387), level='INFO', message='Application startup complete.', service='uvicorn.error', id='7OYIDpgB1uxAWijV7Alv'), LogResponse(timestamp=datetime.datetime(2025, 7, 15, 12, 22, 2, 520420), level='INFO', message='OpenSearch client initialized', service='uvicorn', id='6-YIDpgB1uxAWijV7Ak2'), LogResponse(timestamp=datetime.datetime(2025, 7, 15, 12, 7, 42, 612455), level='INFO', message='Waiting for application shutdown.', service='uvicorn.error', id='gJL7DZgB0ekecnZJzS0Y'), LogResponse(timestamp=datetime.datetime(2025, 7, 15, 12, 7, 42, 565825), level='INFO', message='Client disconnected', service='uvicorn', id='f5L7DZgB0ekecnZJzC3t'), LogResponse(timestamp=datetime.datetime(2025, 7, 15, 12, 7, 42, 287000), level='INFO', message='Waiting for background tasks to complete. (CTRL+C to force quit)', service='uvicorn.error', id='fpL7DZgB0ekecnZJyy3U'), LogResponse(timestamp=datetime.datetime(2025, 7, 15, 12, 7, 42, 247606), level='INFO', message='Client disconnected', service='uvicorn', id='fZL7DZgB0ekecnZJyy2s'), LogResponse(timestamp=datetime.datetime(2025, 7, 15, 12, 7, 42, 209420), level='INFO', message='connection closed', service='uvicorn.error', id='fJL7DZgB0ekecnZJyy2F'), LogResponse(timestamp=datetime.datetime(2025, 7, 15, 12, 7, 42, 186895), level='INFO', message='connection closed', service='uvicorn.error', id='e5L7DZgB0ekecnZJyy1v'), LogResponse(timestamp=datetime.datetime(2025, 7, 15, 12, 7, 42, 157524), level='INFO', message='Shutting down', service='uvicorn.error', id='epL7DZgB0ekecnZJyy1R'), LogResponse(timestamp=datetime.datetime(2025, 7, 15, 12, 4, 0, 877000, tzinfo=TzInfo(UTC)), level='WARNING', message='coucou test', service='frontend-test', id='eZL4DZgB0ekecnZJay0e'), LogResponse(timestamp=datetime.datetime(2025, 7, 15, 12, 2, 49, 103899), level='INFO', message='Client disconnected', service='uvicorn', id='eJL3DZgB0ekecnZJUi2h'), LogResponse(timestamp=datetime.datetime(2025, 7, 15, 12, 2, 48, 819290), level='INFO', message='Client disconnected', service='uvicorn', id='d5L3DZgB0ekecnZJUS15'), LogResponse(timestamp=datetime.datetime(2025, 7, 15, 12, 2, 47, 308973), level='INFO', message='connection open', service='uvicorn.error', id='dpL3DZgB0ekecnZJSy2c'), LogResponse(timestamp=datetime.datetime(2025, 7, 15, 12, 2, 47, 232961), level='INFO', message='172.20.0.1:44912 - \"WebSocket /ws\" [accepted]', service='uvicorn.error', id='dZL3DZgB0ekecnZJSy1G')]\n"
     ]
    }
   ],
   "source": [
    "response = opensearch_client.get_last_20_log()\n",
    "print(response)"
   ]
  },
  {
   "cell_type": "code",
   "execution_count": 4,
   "metadata": {},
   "outputs": [
    {
     "name": "stdout",
     "output_type": "stream",
     "text": [
      "<class 'src.dto.LogResponse'>\n"
     ]
    }
   ],
   "source": [
    "request = {\n",
    "    \"timestamp\":\"2025-07-15T07:19:15.699Z\",\n",
    "    \"level\":\"INFO\",\n",
    "    \"message\":\"coucou test\",\n",
    "    \"service\":\"frontend-test\",\n",
    "}\n",
    "log = Log(**request)\n",
    "log_id = opensearch_client.save_log(log)\n",
    "print(type(log_id))\n",
    "\n"
   ]
  },
  {
   "cell_type": "code",
   "execution_count": 7,
   "metadata": {},
   "outputs": [],
   "source": [
    "request_msg = {\n",
    "    \"message\": \"coucou\",\n",
    "}\n",
    "request_level = {\n",
    "    \"level\": \"DEBUG\",\n",
    "}\n",
    "request_service = {\n",
    "    \"service\": \"frontend-test\",\n",
    "}\n",
    "request_msg_level = {\n",
    "    \"message\": \"coucou\",\n",
    "    \"level\": \"DEBUG\",\n",
    "}\n",
    "request_msg_service = {\n",
    "    \"message\": \"coucou test\",\n",
    "    \"service\": \"frontend-test\",\n",
    "}\n",
    "request_msg_level_service = {\n",
    "    \"message\": \"coucou test\",\n",
    "    \"level\": \"INFO\",\n",
    "    \"service\": \"frontend-test\",\n",
    "}\n",
    "request_error = {\n",
    "    \"level\": \"ERROR\"\n",
    "}"
   ]
  },
  {
   "cell_type": "code",
   "execution_count": 7,
   "metadata": {},
   "outputs": [
    {
     "name": "stdout",
     "output_type": "stream",
     "text": [
      "[LogResponse(timestamp=datetime.datetime(2025, 7, 15, 7, 19, 15, 699000, tzinfo=TzInfo(UTC)), level='INFO', message='coucou test', service='frontend-test', id='dcHzDJgBEZwiNKlyuOs-'), LogResponse(timestamp=datetime.datetime(2025, 7, 15, 7, 24, 30, 54000, tzinfo=TzInfo(UTC)), level='INFO', message='coucou test', service='frontend-test', id='HmL4DJgBWrPhUTO8hJ8l'), LogResponse(timestamp=datetime.datetime(2025, 7, 15, 7, 19, 15, 699000, tzinfo=TzInfo(UTC)), level='INFO', message='coucou test', service='frontend-test', id='IGL5DJgBWrPhUTO8459O'), LogResponse(timestamp=datetime.datetime(2025, 7, 15, 7, 19, 15, 699000, tzinfo=TzInfo(UTC)), level='INFO', message='coucou test', service='frontend-test', id='IWL9DJgBWrPhUTO85J-5'), LogResponse(timestamp=datetime.datetime(2025, 7, 15, 7, 19, 15, 699000, tzinfo=TzInfo(UTC)), level='INFO', message='coucou test', service='frontend-test', id='ImL-DJgBWrPhUTO8Cp-P'), LogResponse(timestamp=datetime.datetime(2025, 7, 15, 7, 19, 15, 699000, tzinfo=TzInfo(UTC)), level='INFO', message='coucou test', service='frontend-test', id='I2L-DJgBWrPhUTO8vJ8v'), LogResponse(timestamp=datetime.datetime(2025, 7, 15, 7, 19, 15, 699000, tzinfo=TzInfo(UTC)), level='INFO', message='coucou test', service='frontend-test', id='JGL_DJgBWrPhUTO8JJ9l'), LogResponse(timestamp=datetime.datetime(2025, 7, 15, 7, 19, 15, 699000, tzinfo=TzInfo(UTC)), level='INFO', message='coucou test', service='frontend-test', id='JWL_DJgBWrPhUTO8Tp8W'), LogResponse(timestamp=datetime.datetime(2025, 7, 15, 7, 34, 31, 341000, tzinfo=TzInfo(UTC)), level='DEBUG', message='coucou test', service='frontend-test', id='bnEBDZgBRWxkwry5sC_K'), LogResponse(timestamp=datetime.datetime(2025, 7, 15, 7, 19, 15, 699000, tzinfo=TzInfo(UTC)), level='INFO', message='coucou test', service='frontend-test', id='LBcfDZgB64ezrcPFtg55')]\n"
     ]
    }
   ],
   "source": [
    "query = Query(**request_msg)\n",
    "response = opensearch_client.search_log(query)\n",
    "print(response)"
   ]
  },
  {
   "cell_type": "code",
   "execution_count": 8,
   "metadata": {},
   "outputs": [
    {
     "name": "stdout",
     "output_type": "stream",
     "text": [
      "[LogResponse(timestamp=datetime.datetime(2025, 7, 15, 7, 34, 31, 341000, tzinfo=TzInfo(UTC)), level='DEBUG', message='coucou test', service='frontend-test', id='bnEBDZgBRWxkwry5sC_K'), LogResponse(timestamp=datetime.datetime(2025, 7, 15, 8, 28, 19, 946000, tzinfo=TzInfo(UTC)), level='DEBUG', message='coucou test', service='frontend-test', id='MBcyDZgB64ezrcPF9A7-')]\n"
     ]
    }
   ],
   "source": [
    "query = Query(**request_level)\n",
    "response = opensearch_client.search_log(query)\n",
    "print(response)"
   ]
  },
  {
   "cell_type": "code",
   "execution_count": 9,
   "metadata": {},
   "outputs": [
    {
     "name": "stdout",
     "output_type": "stream",
     "text": [
      "[LogResponse(timestamp=datetime.datetime(2025, 7, 15, 7, 19, 15, 699000, tzinfo=TzInfo(UTC)), level='INFO', message='coucou test', service='frontend-test', id='dcHzDJgBEZwiNKlyuOs-'), LogResponse(timestamp=datetime.datetime(2025, 7, 15, 7, 24, 30, 54000, tzinfo=TzInfo(UTC)), level='INFO', message='coucou test', service='frontend-test', id='HmL4DJgBWrPhUTO8hJ8l'), LogResponse(timestamp=datetime.datetime(2025, 7, 15, 7, 19, 15, 699000, tzinfo=TzInfo(UTC)), level='INFO', message='coucou test', service='frontend-test', id='IGL5DJgBWrPhUTO8459O'), LogResponse(timestamp=datetime.datetime(2025, 7, 15, 7, 19, 15, 699000, tzinfo=TzInfo(UTC)), level='INFO', message='coucou test', service='frontend-test', id='IWL9DJgBWrPhUTO85J-5'), LogResponse(timestamp=datetime.datetime(2025, 7, 15, 7, 19, 15, 699000, tzinfo=TzInfo(UTC)), level='INFO', message='coucou test', service='frontend-test', id='ImL-DJgBWrPhUTO8Cp-P'), LogResponse(timestamp=datetime.datetime(2025, 7, 15, 7, 19, 15, 699000, tzinfo=TzInfo(UTC)), level='INFO', message='coucou test', service='frontend-test', id='I2L-DJgBWrPhUTO8vJ8v'), LogResponse(timestamp=datetime.datetime(2025, 7, 15, 7, 19, 15, 699000, tzinfo=TzInfo(UTC)), level='INFO', message='coucou test', service='frontend-test', id='JGL_DJgBWrPhUTO8JJ9l'), LogResponse(timestamp=datetime.datetime(2025, 7, 15, 7, 19, 15, 699000, tzinfo=TzInfo(UTC)), level='INFO', message='coucou test', service='frontend-test', id='JWL_DJgBWrPhUTO8Tp8W'), LogResponse(timestamp=datetime.datetime(2025, 7, 15, 7, 34, 31, 341000, tzinfo=TzInfo(UTC)), level='DEBUG', message='coucou test', service='frontend-test', id='bnEBDZgBRWxkwry5sC_K'), LogResponse(timestamp=datetime.datetime(2025, 7, 15, 7, 19, 15, 699000, tzinfo=TzInfo(UTC)), level='INFO', message='coucou test', service='frontend-test', id='LBcfDZgB64ezrcPFtg55')]\n"
     ]
    }
   ],
   "source": [
    "query = Query(**request_service)\n",
    "response = opensearch_client.search_log(query)\n",
    "print(response)"
   ]
  },
  {
   "cell_type": "code",
   "execution_count": 13,
   "metadata": {},
   "outputs": [
    {
     "name": "stdout",
     "output_type": "stream",
     "text": [
      "[LogResponse(timestamp=datetime.datetime(2025, 7, 15, 7, 34, 31, 341000, tzinfo=TzInfo(UTC)), level='DEBUG', message='coucou test', service='frontend-test', id='bnEBDZgBRWxkwry5sC_K'), LogResponse(timestamp=datetime.datetime(2025, 7, 15, 8, 28, 19, 946000, tzinfo=TzInfo(UTC)), level='DEBUG', message='coucou test', service='frontend-test', id='MBcyDZgB64ezrcPF9A7-')]\n"
     ]
    }
   ],
   "source": [
    "query = Query(**request_msg_level)\n",
    "response = opensearch_client.search_log(query)\n",
    "print(response)"
   ]
  },
  {
   "cell_type": "code",
   "execution_count": 9,
   "metadata": {},
   "outputs": [
    {
     "name": "stdout",
     "output_type": "stream",
     "text": [
      "[LogResponse(timestamp=datetime.datetime(2025, 7, 15, 7, 8, 21, 412334), level='ERROR', message=\"Error: 1 validation error for LogResponse\\nid\\n  Field required [type=missing, input_value={'timestamp': '2025-07-15...rvice': 'uvicorn.error'}, input_type=dict]\\n    For further information visit https://errors.pydantic.dev/2.11/v/missing\", service='uvicorn', id='S3PpDJgB0waEoomavHYq'), LogResponse(timestamp=datetime.datetime(2025, 7, 15, 7, 8, 21, 638201), level='ERROR', message=\"Error: 1 validation error for LogResponse\\nid\\n  Field required [type=missing, input_value={'timestamp': '2025-07-15...rvice': 'uvicorn.error'}, input_type=dict]\\n    For further information visit https://errors.pydantic.dev/2.11/v/missing\", service='uvicorn', id='TnPpDJgB0waEoomavXYN'), LogResponse(timestamp=datetime.datetime(2025, 7, 15, 7, 19, 15, 805482), level='ERROR', message=\"Error: 1 validation error for LogResponse\\nid\\n  Input should be a valid string [type=string_type, input_value=LogResponse(timestamp=dat...='dcHzDJgBEZwiNKlyuOs-'), input_type=LogResponse]\\n    For further information visit https://errors.pydantic.dev/2.11/v/string_type\", service='uvicorn', id='dsHzDJgBEZwiNKlyuOtk'), LogResponse(timestamp=datetime.datetime(2025, 7, 15, 6, 55, 9, 22196), level='ERROR', message=\"Error: 1 validation error for LogResponse\\nid\\n  Field required [type=missing, input_value={'timestamp': '2025-07-15...rvice': 'uvicorn.error'}, input_type=dict]\\n    For further information visit https://errors.pydantic.dev/2.11/v/missing\", service='uvicorn', id='p_vdDJgBu0UyWAXspCXm'), LogResponse(timestamp=datetime.datetime(2025, 7, 15, 6, 55, 9, 275649), level='ERROR', message=\"Error: 1 validation error for LogResponse\\nid\\n  Field required [type=missing, input_value={'timestamp': '2025-07-15...rvice': 'uvicorn.error'}, input_type=dict]\\n    For further information visit https://errors.pydantic.dev/2.11/v/missing\", service='uvicorn', id='qvvdDJgBu0UyWAXspSXn'), LogResponse(timestamp=datetime.datetime(2025, 7, 15, 7, 24, 30, 191436), level='ERROR', message=\"Error: 1 validation error for LogResponse\\nid\\n  Input should be a valid string [type=string_type, input_value=LogResponse(timestamp=dat...='HmL4DJgBWrPhUTO8hJ8l'), input_type=LogResponse]\\n    For further information visit https://errors.pydantic.dev/2.11/v/string_type\", service='uvicorn', id='H2L4DJgBWrPhUTO8hJ99'), LogResponse(timestamp=datetime.datetime(2025, 7, 15, 12, 22, 53, 740000, tzinfo=TzInfo(UTC)), level='ERROR', message='coucou test', service='frontend-test', id='8uYJDpgB1uxAWijVtAli')]\n",
      "7\n"
     ]
    }
   ],
   "source": [
    "query = Query(**request_error)\n",
    "response = opensearch_client.search_log(query)\n",
    "print(response)\n",
    "print(len(response))"
   ]
  },
  {
   "cell_type": "code",
   "execution_count": null,
   "metadata": {},
   "outputs": [],
   "source": []
  }
 ],
 "metadata": {
  "kernelspec": {
   "display_name": ".venv",
   "language": "python",
   "name": "python3"
  },
  "language_info": {
   "codemirror_mode": {
    "name": "ipython",
    "version": 3
   },
   "file_extension": ".py",
   "mimetype": "text/x-python",
   "name": "python",
   "nbconvert_exporter": "python",
   "pygments_lexer": "ipython3",
   "version": "3.12.3"
  }
 },
 "nbformat": 4,
 "nbformat_minor": 2
}
