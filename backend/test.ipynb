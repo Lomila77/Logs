{
 "cells": [
  {
   "cell_type": "code",
   "execution_count": 1,
   "metadata": {},
   "outputs": [],
   "source": [
    "from opensearchpy import OpenSearch\n",
    "from src.opensearch import Opensearch_Client\n",
    "from src.dto import Log, Query, LogResponse\n",
    "\n",
    "OPENSEARCH_HOST=\"localhost\"\n",
    "OPENSEARCH_PORT=\"9200\""
   ]
  },
  {
   "cell_type": "code",
   "execution_count": 2,
   "metadata": {},
   "outputs": [],
   "source": [
    "opensearch_client = Opensearch_Client(\n",
    "        OpenSearch(\n",
    "            hosts=[\n",
    "                {\n",
    "                    \"host\": OPENSEARCH_HOST,\n",
    "                    \"port\": OPENSEARCH_PORT,\n",
    "                }\n",
    "            ],\n",
    "        )\n",
    "    )"
   ]
  },
  {
   "cell_type": "code",
   "execution_count": 3,
   "metadata": {},
   "outputs": [
    {
     "name": "stdout",
     "output_type": "stream",
     "text": [
      "[LogResponse(timestamp=datetime.datetime(2025, 7, 15, 8, 28, 19, 946000, tzinfo=TzInfo(UTC)), level='DEBUG', message='coucou test', service='frontend-test', id='MBcyDZgB64ezrcPF9A7-'), LogResponse(timestamp=datetime.datetime(2025, 7, 15, 7, 58, 18, 251534), level='INFO', message='connection open', service='uvicorn.error', id='KxcXDZgB64ezrcPFdg6X'), LogResponse(timestamp=datetime.datetime(2025, 7, 15, 7, 58, 18, 201233), level='INFO', message='172.20.0.1:40662 - \"WebSocket /ws\" [accepted]', service='uvicorn.error', id='KhcXDZgB64ezrcPFdg5f'), LogResponse(timestamp=datetime.datetime(2025, 7, 15, 7, 58, 18, 145792), level='INFO', message='connection open', service='uvicorn.error', id='KRcXDZgB64ezrcPFdg4o'), LogResponse(timestamp=datetime.datetime(2025, 7, 15, 7, 58, 18, 27461), level='INFO', message='172.20.0.1:40660 - \"WebSocket /ws\" [accepted]', service='uvicorn.error', id='KBcXDZgB64ezrcPFdQ6w'), LogResponse(timestamp=datetime.datetime(2025, 7, 15, 7, 58, 2, 9957), level='INFO', message='Uvicorn running on http://0.0.0.0:8000 (Press CTRL+C to quit)', service='uvicorn.error', id='JxcXDZgB64ezrcPFNw4h'), LogResponse(timestamp=datetime.datetime(2025, 7, 15, 7, 58, 1, 980414), level='INFO', message='Application startup complete.', service='uvicorn.error', id='JhcXDZgB64ezrcPFNw4C'), LogResponse(timestamp=datetime.datetime(2025, 7, 15, 7, 58, 1, 893559), level='INFO', message='OpenSearch client initialized', service='uvicorn', id='JRcXDZgB64ezrcPFNg7B'), LogResponse(timestamp=datetime.datetime(2025, 7, 15, 7, 56, 42, 758410), level='INFO', message='Waiting for application shutdown.', service='uvicorn.error', id='cjYWDZgBcBHYHVWAAQSL'), LogResponse(timestamp=datetime.datetime(2025, 7, 15, 7, 56, 42, 711046), level='INFO', message='Client disconnected', service='uvicorn', id='cTYWDZgBcBHYHVWAAQRl'), LogResponse(timestamp=datetime.datetime(2025, 7, 15, 7, 56, 42, 540997), level='INFO', message='Client disconnected', service='uvicorn', id='cDYWDZgBcBHYHVWAAAS4'), LogResponse(timestamp=datetime.datetime(2025, 7, 15, 7, 56, 38, 473742), level='INFO', message='Waiting for background tasks to complete. (CTRL+C to force quit)', service='uvicorn.error', id='bzYVDZgBcBHYHVWA8ATP'), LogResponse(timestamp=datetime.datetime(2025, 7, 15, 7, 56, 38, 431960), level='INFO', message='connection closed', service='uvicorn.error', id='bjYVDZgBcBHYHVWA8ASo'), LogResponse(timestamp=datetime.datetime(2025, 7, 15, 7, 56, 38, 374964), level='INFO', message='connection closed', service='uvicorn.error', id='bTYVDZgBcBHYHVWA8ARu'), LogResponse(timestamp=datetime.datetime(2025, 7, 15, 7, 56, 38, 325688), level='INFO', message='Shutting down', service='uvicorn.error', id='bDYVDZgBcBHYHVWA8AQ6'), LogResponse(timestamp=datetime.datetime(2025, 7, 15, 7, 56, 34, 136006), level='INFO', message='Client disconnected', service='uvicorn', id='azYVDZgBcBHYHVWA3wTr'), LogResponse(timestamp=datetime.datetime(2025, 7, 15, 7, 56, 33, 871743), level='INFO', message='Client disconnected', service='uvicorn', id='ajYVDZgBcBHYHVWA3gTj'), LogResponse(timestamp=datetime.datetime(2025, 7, 15, 7, 56, 32, 592701), level='INFO', message='connection open', service='uvicorn.error', id='aTYVDZgBcBHYHVWA2QTb'), LogResponse(timestamp=datetime.datetime(2025, 7, 15, 7, 56, 32, 544161), level='INFO', message='172.20.0.1:38864 - \"WebSocket /ws\" [accepted]', service='uvicorn.error', id='aDYVDZgBcBHYHVWA2QSo'), LogResponse(timestamp=datetime.datetime(2025, 7, 15, 7, 56, 32, 460427), level='INFO', message='connection open', service='uvicorn.error', id='ZzYVDZgBcBHYHVWA2QRT')]\n"
     ]
    }
   ],
   "source": [
    "response = opensearch_client.get_last_20_log()\n",
    "print(response)"
   ]
  },
  {
   "cell_type": "code",
   "execution_count": 5,
   "metadata": {},
   "outputs": [
    {
     "name": "stdout",
     "output_type": "stream",
     "text": [
      "<class 'src.dto.LogResponse'>\n"
     ]
    }
   ],
   "source": [
    "request = {\n",
    "    \"timestamp\":\"2025-07-15T07:19:15.699Z\",\n",
    "    \"level\":\"INFO\",\n",
    "    \"message\":\"coucou test\",\n",
    "    \"service\":\"frontend-test\",\n",
    "}\n",
    "log = Log(**request)\n",
    "log_id = opensearch_client.save_log(log)\n",
    "print(type(log_id))\n",
    "\n"
   ]
  },
  {
   "cell_type": "code",
   "execution_count": 12,
   "metadata": {},
   "outputs": [],
   "source": [
    "request_msg = {\n",
    "    \"message\": \"coucou\",\n",
    "}\n",
    "request_level = {\n",
    "    \"level\": \"DEBUG\",\n",
    "}\n",
    "request_service = {\n",
    "    \"service\": \"frontend-test\",\n",
    "}\n",
    "request_msg_level = {\n",
    "    \"message\": \"coucou\",\n",
    "    \"level\": \"DEBUG\",\n",
    "}\n",
    "request_msg_service = {\n",
    "    \"message\": \"coucou test\",\n",
    "    \"service\": \"frontend-test\",\n",
    "}\n",
    "request_msg_level_service = {\n",
    "    \"message\": \"coucou test\",\n",
    "    \"level\": \"INFO\",\n",
    "    \"service\": \"frontend-test\",\n",
    "}"
   ]
  },
  {
   "cell_type": "code",
   "execution_count": 7,
   "metadata": {},
   "outputs": [
    {
     "name": "stdout",
     "output_type": "stream",
     "text": [
      "[LogResponse(timestamp=datetime.datetime(2025, 7, 15, 7, 19, 15, 699000, tzinfo=TzInfo(UTC)), level='INFO', message='coucou test', service='frontend-test', id='dcHzDJgBEZwiNKlyuOs-'), LogResponse(timestamp=datetime.datetime(2025, 7, 15, 7, 24, 30, 54000, tzinfo=TzInfo(UTC)), level='INFO', message='coucou test', service='frontend-test', id='HmL4DJgBWrPhUTO8hJ8l'), LogResponse(timestamp=datetime.datetime(2025, 7, 15, 7, 19, 15, 699000, tzinfo=TzInfo(UTC)), level='INFO', message='coucou test', service='frontend-test', id='IGL5DJgBWrPhUTO8459O'), LogResponse(timestamp=datetime.datetime(2025, 7, 15, 7, 19, 15, 699000, tzinfo=TzInfo(UTC)), level='INFO', message='coucou test', service='frontend-test', id='IWL9DJgBWrPhUTO85J-5'), LogResponse(timestamp=datetime.datetime(2025, 7, 15, 7, 19, 15, 699000, tzinfo=TzInfo(UTC)), level='INFO', message='coucou test', service='frontend-test', id='ImL-DJgBWrPhUTO8Cp-P'), LogResponse(timestamp=datetime.datetime(2025, 7, 15, 7, 19, 15, 699000, tzinfo=TzInfo(UTC)), level='INFO', message='coucou test', service='frontend-test', id='I2L-DJgBWrPhUTO8vJ8v'), LogResponse(timestamp=datetime.datetime(2025, 7, 15, 7, 19, 15, 699000, tzinfo=TzInfo(UTC)), level='INFO', message='coucou test', service='frontend-test', id='JGL_DJgBWrPhUTO8JJ9l'), LogResponse(timestamp=datetime.datetime(2025, 7, 15, 7, 19, 15, 699000, tzinfo=TzInfo(UTC)), level='INFO', message='coucou test', service='frontend-test', id='JWL_DJgBWrPhUTO8Tp8W'), LogResponse(timestamp=datetime.datetime(2025, 7, 15, 7, 34, 31, 341000, tzinfo=TzInfo(UTC)), level='DEBUG', message='coucou test', service='frontend-test', id='bnEBDZgBRWxkwry5sC_K'), LogResponse(timestamp=datetime.datetime(2025, 7, 15, 7, 19, 15, 699000, tzinfo=TzInfo(UTC)), level='INFO', message='coucou test', service='frontend-test', id='LBcfDZgB64ezrcPFtg55')]\n"
     ]
    }
   ],
   "source": [
    "query = Query(**request_msg)\n",
    "response = opensearch_client.search_log(query)\n",
    "print(response)"
   ]
  },
  {
   "cell_type": "code",
   "execution_count": 8,
   "metadata": {},
   "outputs": [
    {
     "name": "stdout",
     "output_type": "stream",
     "text": [
      "[LogResponse(timestamp=datetime.datetime(2025, 7, 15, 7, 34, 31, 341000, tzinfo=TzInfo(UTC)), level='DEBUG', message='coucou test', service='frontend-test', id='bnEBDZgBRWxkwry5sC_K'), LogResponse(timestamp=datetime.datetime(2025, 7, 15, 8, 28, 19, 946000, tzinfo=TzInfo(UTC)), level='DEBUG', message='coucou test', service='frontend-test', id='MBcyDZgB64ezrcPF9A7-')]\n"
     ]
    }
   ],
   "source": [
    "query = Query(**request_level)\n",
    "response = opensearch_client.search_log(query)\n",
    "print(response)"
   ]
  },
  {
   "cell_type": "code",
   "execution_count": 9,
   "metadata": {},
   "outputs": [
    {
     "name": "stdout",
     "output_type": "stream",
     "text": [
      "[LogResponse(timestamp=datetime.datetime(2025, 7, 15, 7, 19, 15, 699000, tzinfo=TzInfo(UTC)), level='INFO', message='coucou test', service='frontend-test', id='dcHzDJgBEZwiNKlyuOs-'), LogResponse(timestamp=datetime.datetime(2025, 7, 15, 7, 24, 30, 54000, tzinfo=TzInfo(UTC)), level='INFO', message='coucou test', service='frontend-test', id='HmL4DJgBWrPhUTO8hJ8l'), LogResponse(timestamp=datetime.datetime(2025, 7, 15, 7, 19, 15, 699000, tzinfo=TzInfo(UTC)), level='INFO', message='coucou test', service='frontend-test', id='IGL5DJgBWrPhUTO8459O'), LogResponse(timestamp=datetime.datetime(2025, 7, 15, 7, 19, 15, 699000, tzinfo=TzInfo(UTC)), level='INFO', message='coucou test', service='frontend-test', id='IWL9DJgBWrPhUTO85J-5'), LogResponse(timestamp=datetime.datetime(2025, 7, 15, 7, 19, 15, 699000, tzinfo=TzInfo(UTC)), level='INFO', message='coucou test', service='frontend-test', id='ImL-DJgBWrPhUTO8Cp-P'), LogResponse(timestamp=datetime.datetime(2025, 7, 15, 7, 19, 15, 699000, tzinfo=TzInfo(UTC)), level='INFO', message='coucou test', service='frontend-test', id='I2L-DJgBWrPhUTO8vJ8v'), LogResponse(timestamp=datetime.datetime(2025, 7, 15, 7, 19, 15, 699000, tzinfo=TzInfo(UTC)), level='INFO', message='coucou test', service='frontend-test', id='JGL_DJgBWrPhUTO8JJ9l'), LogResponse(timestamp=datetime.datetime(2025, 7, 15, 7, 19, 15, 699000, tzinfo=TzInfo(UTC)), level='INFO', message='coucou test', service='frontend-test', id='JWL_DJgBWrPhUTO8Tp8W'), LogResponse(timestamp=datetime.datetime(2025, 7, 15, 7, 34, 31, 341000, tzinfo=TzInfo(UTC)), level='DEBUG', message='coucou test', service='frontend-test', id='bnEBDZgBRWxkwry5sC_K'), LogResponse(timestamp=datetime.datetime(2025, 7, 15, 7, 19, 15, 699000, tzinfo=TzInfo(UTC)), level='INFO', message='coucou test', service='frontend-test', id='LBcfDZgB64ezrcPFtg55')]\n"
     ]
    }
   ],
   "source": [
    "query = Query(**request_service)\n",
    "response = opensearch_client.search_log(query)\n",
    "print(response)"
   ]
  },
  {
   "cell_type": "code",
   "execution_count": 13,
   "metadata": {},
   "outputs": [
    {
     "name": "stdout",
     "output_type": "stream",
     "text": [
      "[LogResponse(timestamp=datetime.datetime(2025, 7, 15, 7, 34, 31, 341000, tzinfo=TzInfo(UTC)), level='DEBUG', message='coucou test', service='frontend-test', id='bnEBDZgBRWxkwry5sC_K'), LogResponse(timestamp=datetime.datetime(2025, 7, 15, 8, 28, 19, 946000, tzinfo=TzInfo(UTC)), level='DEBUG', message='coucou test', service='frontend-test', id='MBcyDZgB64ezrcPF9A7-')]\n"
     ]
    }
   ],
   "source": [
    "query = Query(**request_msg_level)\n",
    "response = opensearch_client.search_log(query)\n",
    "print(response)"
   ]
  },
  {
   "cell_type": "code",
   "execution_count": null,
   "metadata": {},
   "outputs": [],
   "source": []
  },
  {
   "cell_type": "code",
   "execution_count": null,
   "metadata": {},
   "outputs": [],
   "source": []
  }
 ],
 "metadata": {
  "kernelspec": {
   "display_name": ".venv",
   "language": "python",
   "name": "python3"
  },
  "language_info": {
   "codemirror_mode": {
    "name": "ipython",
    "version": 3
   },
   "file_extension": ".py",
   "mimetype": "text/x-python",
   "name": "python",
   "nbconvert_exporter": "python",
   "pygments_lexer": "ipython3",
   "version": "3.12.3"
  }
 },
 "nbformat": 4,
 "nbformat_minor": 2
}
