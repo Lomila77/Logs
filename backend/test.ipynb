{
 "cells": [
  {
   "cell_type": "code",
   "execution_count": 16,
   "metadata": {},
   "outputs": [],
   "source": [
    "from opensearchpy import OpenSearch\n",
    "from src.opensearch import Opensearch_Client\n",
    "from src.dto import Log, LogResponse\n",
    "\n",
    "OPENSEARCH_HOST=\"localhost\"\n",
    "OPENSEARCH_PORT=\"9200\""
   ]
  },
  {
   "cell_type": "code",
   "execution_count": 10,
   "metadata": {},
   "outputs": [],
   "source": [
    "opensearch_client = Opensearch_Client(\n",
    "        OpenSearch(\n",
    "            hosts=[\n",
    "                {\n",
    "                    \"host\": OPENSEARCH_HOST,\n",
    "                    \"port\": OPENSEARCH_PORT,\n",
    "                }\n",
    "            ],\n",
    "        )\n",
    "    )"
   ]
  },
  {
   "cell_type": "code",
   "execution_count": 11,
   "metadata": {},
   "outputs": [
    {
     "name": "stdout",
     "output_type": "stream",
     "text": [
      "[{'_index': 'logs-2025-07-15', '_id': 'H2L4DJgBWrPhUTO8hJ99', '_score': None, '_source': {'timestamp': '2025-07-15T07:24:30.191436', 'level': 'ERROR', 'message': \"Error: 1 validation error for LogResponse\\nid\\n  Input should be a valid string [type=string_type, input_value=LogResponse(timestamp=dat...='HmL4DJgBWrPhUTO8hJ8l'), input_type=LogResponse]\\n    For further information visit https://errors.pydantic.dev/2.11/v/string_type\", 'service': 'uvicorn'}, 'sort': [1752564270191]}, {'_index': 'logs-2025-07-15', '_id': 'HmL4DJgBWrPhUTO8hJ8l', '_score': None, '_source': {'timestamp': '2025-07-15T07:24:30.054000+00:00', 'level': 'INFO', 'message': 'coucou test', 'service': 'frontend-test'}, 'sort': [1752564270054]}, {'_index': 'logs-2025-07-15', '_id': 'HWL4DJgBWrPhUTO8Yp-c', '_score': None, '_source': {'timestamp': '2025-07-15T07:24:21.516007', 'level': 'INFO', 'message': 'connection open', 'service': 'uvicorn.error'}, 'sort': [1752564261516]}, {'_index': 'logs-2025-07-15', '_id': 'HGL4DJgBWrPhUTO8Yp9b', '_score': None, '_source': {'timestamp': '2025-07-15T07:24:21.461131', 'level': 'INFO', 'message': '172.20.0.1:48658 - \"WebSocket /ws\" [accepted]', 'service': 'uvicorn.error'}, 'sort': [1752564261461]}, {'_index': 'logs-2025-07-15', '_id': 'G2L4DJgBWrPhUTO8Yp8a', '_score': None, '_source': {'timestamp': '2025-07-15T07:24:21.396612', 'level': 'INFO', 'message': 'connection open', 'service': 'uvicorn.error'}, 'sort': [1752564261396]}, {'_index': 'logs-2025-07-15', '_id': 'GmL4DJgBWrPhUTO8YZ_T', '_score': None, '_source': {'timestamp': '2025-07-15T07:24:21.324898', 'level': 'INFO', 'message': '172.20.0.1:48644 - \"WebSocket /ws\" [accepted]', 'service': 'uvicorn.error'}, 'sort': [1752564261324]}, {'_index': 'logs-2025-07-15', '_id': 'GWL3DJgBWrPhUTO8-J8m', '_score': None, '_source': {'timestamp': '2025-07-15T07:23:54.270664', 'level': 'INFO', 'message': 'Uvicorn running on http://0.0.0.0:8000 (Press CTRL+C to quit)', 'service': 'uvicorn.error'}, 'sort': [1752564234270]}, {'_index': 'logs-2025-07-15', '_id': 'GGL3DJgBWrPhUTO895_9', '_score': None, '_source': {'timestamp': '2025-07-15T07:23:54.227099', 'level': 'INFO', 'message': 'Application startup complete.', 'service': 'uvicorn.error'}, 'sort': [1752564234227]}, {'_index': 'logs-2025-07-15', '_id': 'F2L3DJgBWrPhUTO895-k', '_score': None, '_source': {'timestamp': '2025-07-15T07:23:54.117773', 'level': 'INFO', 'message': 'OpenSearch client initialized', 'service': 'uvicorn'}, 'sort': [1752564234117]}, {'_index': 'logs-2025-07-15', '_id': 'fcH2DJgBEZwiNKlyAOtC', '_score': None, '_source': {'timestamp': '2025-07-15T07:21:45.275098', 'level': 'INFO', 'message': 'Waiting for application shutdown.', 'service': 'uvicorn.error'}, 'sort': [1752564105275]}, {'_index': 'logs-2025-07-15', '_id': 'fMH1DJgBEZwiNKly_-v6', '_score': None, '_source': {'timestamp': '2025-07-15T07:21:45.203697', 'level': 'INFO', 'message': 'Client disconnected', 'service': 'uvicorn'}, 'sort': [1752564105203]}, {'_index': 'logs-2025-07-15', '_id': 'e8H1DJgBEZwiNKly_-uY', '_score': None, '_source': {'timestamp': '2025-07-15T07:21:45.105178', 'level': 'INFO', 'message': 'Client disconnected', 'service': 'uvicorn'}, 'sort': [1752564105105]}, {'_index': 'logs-2025-07-15', '_id': 'esH1DJgBEZwiNKly7eu1', '_score': None, '_source': {'timestamp': '2025-07-15T07:21:40.528311', 'level': 'INFO', 'message': 'Waiting for background tasks to complete. (CTRL+C to force quit)', 'service': 'uvicorn.error'}, 'sort': [1752564100528]}, {'_index': 'logs-2025-07-15', '_id': 'ecH1DJgBEZwiNKly7euG', '_score': None, '_source': {'timestamp': '2025-07-15T07:21:40.481487', 'level': 'INFO', 'message': 'connection closed', 'service': 'uvicorn.error'}, 'sort': [1752564100481]}, {'_index': 'logs-2025-07-15', '_id': 'eMH1DJgBEZwiNKly7es7', '_score': None, '_source': {'timestamp': '2025-07-15T07:21:40.404815', 'level': 'INFO', 'message': 'connection closed', 'service': 'uvicorn.error'}, 'sort': [1752564100404]}, {'_index': 'logs-2025-07-15', '_id': 'd8H1DJgBEZwiNKly7esW', '_score': None, '_source': {'timestamp': '2025-07-15T07:21:40.368566', 'level': 'INFO', 'message': 'Shutting down', 'service': 'uvicorn.error'}, 'sort': [1752564100368]}, {'_index': 'logs-2025-07-15', '_id': 'dsHzDJgBEZwiNKlyuOtk', '_score': None, '_source': {'timestamp': '2025-07-15T07:19:15.805482', 'level': 'ERROR', 'message': \"Error: 1 validation error for LogResponse\\nid\\n  Input should be a valid string [type=string_type, input_value=LogResponse(timestamp=dat...='dcHzDJgBEZwiNKlyuOs-'), input_type=LogResponse]\\n    For further information visit https://errors.pydantic.dev/2.11/v/string_type\", 'service': 'uvicorn'}, 'sort': [1752563955805]}, {'_index': 'logs-2025-07-15', '_id': 'dcHzDJgBEZwiNKlyuOs-', '_score': None, '_source': {'timestamp': '2025-07-15T07:19:15.699000+00:00', 'level': 'INFO', 'message': 'coucou test', 'service': 'frontend-test'}, 'sort': [1752563955699]}, {'_index': 'logs-2025-07-15', '_id': 'dMHzDJgBEZwiNKlyPuvw', '_score': None, '_source': {'timestamp': '2025-07-15T07:18:44.707825', 'level': 'INFO', 'message': 'connection open', 'service': 'uvicorn.error'}, 'sort': [1752563924707]}, {'_index': 'logs-2025-07-15', '_id': 'c8HzDJgBEZwiNKlyPuuq', '_score': None, '_source': {'timestamp': '2025-07-15T07:18:44.644317', 'level': 'INFO', 'message': '172.20.0.1:38568 - \"WebSocket /ws\" [accepted]', 'service': 'uvicorn.error'}, 'sort': [1752563924644]}]\n"
     ]
    }
   ],
   "source": [
    "response = opensearch_client.get_last_20_log()\n",
    "print(response)"
   ]
  },
  {
   "cell_type": "code",
   "execution_count": 20,
   "metadata": {},
   "outputs": [
    {
     "name": "stdout",
     "output_type": "stream",
     "text": [
      "<class 'src.dto.LogResponse'>\n"
     ]
    }
   ],
   "source": [
    "request = {\n",
    "    \"timestamp\":\"2025-07-15T07:19:15.699Z\",\n",
    "    \"level\":\"INFO\",\n",
    "    \"message\":\"coucou test\",\n",
    "    \"service\":\"frontend-test\",\n",
    "}\n",
    "log = Log(**request)\n",
    "log_id = opensearch_client.save_log(log)\n",
    "print(type(log_id))\n",
    "\n"
   ]
  }
 ],
 "metadata": {
  "kernelspec": {
   "display_name": ".venv",
   "language": "python",
   "name": "python3"
  },
  "language_info": {
   "codemirror_mode": {
    "name": "ipython",
    "version": 3
   },
   "file_extension": ".py",
   "mimetype": "text/x-python",
   "name": "python",
   "nbconvert_exporter": "python",
   "pygments_lexer": "ipython3",
   "version": "3.12.3"
  }
 },
 "nbformat": 4,
 "nbformat_minor": 2
}
